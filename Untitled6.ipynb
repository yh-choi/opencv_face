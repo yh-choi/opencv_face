{
 "cells": [
  {
   "cell_type": "code",
   "execution_count": 13,
   "metadata": {},
   "outputs": [],
   "source": [
    "import numpy as np\n",
    "import cv2 as cv\n",
    "from matplotlib import pyplot as plt"
   ]
  },
  {
   "cell_type": "code",
   "execution_count": 14,
   "metadata": {},
   "outputs": [],
   "source": [
    "def convolve(image,kernel,pad,stride):\n",
    "    (image_height, image_width)=image.shape[:2]\n",
    "    (kernel_height, kernel_width)=kernel.shape[:2]\n",
    "    output_height=(image_height+2*pad-kernel_height)/stride+1\n",
    "    output_width=(image_width+2*pad-kernel_width)/stride+1\n",
    "    #pad=(kernel_width-1)/2\n",
    "    #print(pad)\n",
    "    image = cv.copyMakeBorder(image, pad, pad, pad, pad,cv.BORDER_REPLICATE)\n",
    "    output = np.zeros((image_height, image_width), dtype=\"float32\")\n",
    "    \n",
    "    for y in np.arange(pad, image_height + pad):\n",
    "        \n",
    "        for x in np.arange(pad, image_width + pad):\n",
    "            roi = image[y - pad:y + pad + 1, x - pad:x + pad + 1]        \n",
    "            k = (roi * kernel).sum()\n",
    "            #print(k)\n",
    "            output[y - pad, x - pad] = k\n",
    "            output=output.astype(\"uint8\")\n",
    "    \n",
    "    return output\n",
    "        "
   ]
  },
  {
   "cell_type": "code",
   "execution_count": 15,
   "metadata": {},
   "outputs": [
    {
     "ename": "SyntaxError",
     "evalue": "invalid syntax (<ipython-input-15-18b66e480fab>, line 13)",
     "output_type": "error",
     "traceback": [
      "\u001b[0;36m  File \u001b[0;32m\"<ipython-input-15-18b66e480fab>\"\u001b[0;36m, line \u001b[0;32m13\u001b[0m\n\u001b[0;31m    if__name__== '__main__' :\u001b[0m\n\u001b[0m                            ^\u001b[0m\n\u001b[0;31mSyntaxError\u001b[0m\u001b[0;31m:\u001b[0m invalid syntax\n"
     ]
    }
   ],
   "source": [
    "def run():\n",
    "    image=cv.imread('/home/socmgr/opencv/build/suji.jpeg')\n",
    "    kernel =np.ones((5,5),np.float32)/25\n",
    "    dst=convolve(image,kernel,1,1)\n",
    "    \n",
    "    plt.subplot(121),plt.imshow(cv.cvtColor(image,cv.COLOR_BGR2RGB)),plt.title('Original')\n",
    "    plt.xticks([]), plt.yticks([])\n",
    "    plt.subplot(122),plt.imshow(cv.cvtColor(dst,cv.COLOR_GRAY2RGB)),plt.title('Averaging')\n",
    "    plt.xticks([]), plt.yticks([])\n",
    "\n",
    "    plt.show()\n",
    "    \n",
    "if__name__== '__main__' :\n",
    "    run()"
   ]
  },
  {
   "cell_type": "code",
   "execution_count": null,
   "metadata": {},
   "outputs": [],
   "source": []
  }
 ],
 "metadata": {
  "kernelspec": {
   "display_name": "Python 2",
   "language": "python",
   "name": "python2"
  },
  "language_info": {
   "codemirror_mode": {
    "name": "ipython",
    "version": 2
   },
   "file_extension": ".py",
   "mimetype": "text/x-python",
   "name": "python",
   "nbconvert_exporter": "python",
   "pygments_lexer": "ipython2",
   "version": "2.7.12"
  }
 },
 "nbformat": 4,
 "nbformat_minor": 2
}
